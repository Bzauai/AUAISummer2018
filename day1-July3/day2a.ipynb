{
  "nbformat": 4,
  "nbformat_minor": 0,
  "metadata": {
    "colab": {
      "name": "day2a.ipynb",
      "version": "0.3.2",
      "provenance": [],
      "include_colab_link": true
    },
    "kernelspec": {
      "name": "python2",
      "display_name": "Python 2"
    }
  },
  "cells": [
    {
      "cell_type": "markdown",
      "metadata": {
        "id": "view-in-github",
        "colab_type": "text"
      },
      "source": [
        "[View in Colaboratory](https://colab.research.google.com/github/adipongch/AUAISummer2018/blob/master/day1-July3/day2a.ipynb)"
      ]
    },
    {
      "metadata": {
        "id": "GSJhWQKwvOCJ",
        "colab_type": "text"
      },
      "cell_type": "markdown",
      "source": [
        "#AI challenge\n",
        "\n",
        "AIPARK | MUSIMAP\n",
        "------------ | -------------\n",
        "Accurate dynamic parking area map.   | smart vehicle.\n",
        "Guide you straight to the spots with the highest parking chance. |  smart mobility solutions and discovery."
      ]
    },
    {
      "metadata": {
        "id": "ZqMQswft2Ez1",
        "colab_type": "text"
      },
      "cell_type": "markdown",
      "source": [
        "###AIPARK\n",
        "![AIPARK](https://cdn.fs.agorize.com/PCY1dYvfTRa5pdvQprLW)\n",
        "\"AIPARK is using deep learning and computer vision technology to develop Germany's largest and most accurate dynamic parking area map. By analyzing floating car data from millions of probe vehicles, we are able to guide you straight to the spots with the highest parking chance\"\n",
        "Johannes Riedel - Mathias Rudnik.\n",
        "\n",
        "\n",
        "###MUSIMAP\n",
        "![MUSIMAP](https://cdn.fs.agorize.com/QaxhuB7SQnuzSVfQCPQK)\n",
        "As cars progressively evolve into the next living and working space, user-friendliness of infotainment and entertainment applications will play a key role to win the race towards the preferred smart vehicle. In the momentum and revolution of such digital transformation, Musimap promotes smart mobility solutions by delivering a singular seamless music journey through intelligent personalized music recommendation, navigation and discovery."
      ]
    }
  ]
}