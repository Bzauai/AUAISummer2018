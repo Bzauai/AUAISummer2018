{
  "nbformat": 4,
  "nbformat_minor": 0,
  "metadata": {
    "colab": {
      "name": "day1a.ipynb",
      "version": "0.3.2",
      "provenance": [],
      "include_colab_link": true
    },
    "kernelspec": {
      "name": "python2",
      "display_name": "Python 2"
    }
  },
  "cells": [
    {
      "cell_type": "markdown",
      "metadata": {
        "id": "view-in-github",
        "colab_type": "text"
      },
      "source": [
        "[View in Colaboratory](https://colab.research.google.com/github/adipongch/AUAISummer2018/blob/master/day1-July3/day1a.ipynb)"
      ]
    },
    {
      "metadata": {
        "id": "hSQuCul6Pe5Q",
        "colab_type": "text"
      },
      "cell_type": "markdown",
      "source": [
        "**AUAI Summer program Day1A Assignment**"
      ]
    },
    {
      "metadata": {
        "id": "stQ2a7sUPvbD",
        "colab_type": "text"
      },
      "cell_type": "markdown",
      "source": [
        "#Online course tools\n",
        "\n",
        "*Bank\n",
        " https://www.bot.com.tw/English/BusinessUnits/Domestics/Central/Pages/tb31037.aspx\n",
        "  \n",
        "*facebookgroup\n",
        " https://www.facebook.com/groups/AUAISummerProgram/\n",
        "  \n",
        "#Asia University Map\n",
        "\n",
        " ![National Taiwan Museum of Fine Arts](http://www.asia.edu.tw/en/upload/pages/CampusMap_AsiaU_Eng_large.jpg)\n",
        "\n",
        "http://github.com - automatic!\n"
      ]
    },
    {
      "metadata": {
        "id": "TvDbAOgHSGOj",
        "colab_type": "code",
        "colab": {}
      },
      "cell_type": "code",
      "source": [
        ""
      ],
      "execution_count": 0,
      "outputs": []
    }
  ]
}